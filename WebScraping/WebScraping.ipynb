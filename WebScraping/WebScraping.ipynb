{
 "cells": [
  {
   "cell_type": "markdown",
   "id": "76e7f439",
   "metadata": {},
   "source": [
    "# Robôzinho para coletar informações de ETFs na internet"
   ]
  },
  {
   "cell_type": "markdown",
   "id": "42628483",
   "metadata": {},
   "source": [
    "## Passo 1 - importando e instalando bibliotecas"
   ]
  },
  {
   "cell_type": "code",
   "execution_count": 5,
   "id": "5fe1939e",
   "metadata": {
    "scrolled": true
   },
   "outputs": [
    {
     "name": "stdout",
     "output_type": "stream",
     "text": [
      "Collecting webdriver-manager\n",
      "  Downloading webdriver_manager-3.8.6-py2.py3-none-any.whl (27 kB)\n",
      "Requirement already satisfied: python-dotenv in c:\\programdata\\anaconda3\\lib\\site-packages (from webdriver-manager) (1.0.0)\n",
      "Requirement already satisfied: tqdm in c:\\programdata\\anaconda3\\lib\\site-packages (from webdriver-manager) (4.59.0)\n",
      "Requirement already satisfied: packaging in c:\\programdata\\anaconda3\\lib\\site-packages (from webdriver-manager) (20.9)\n",
      "Requirement already satisfied: requests in c:\\users\\user\\appdata\\roaming\\python\\python38\\site-packages (from webdriver-manager) (2.28.2)\n",
      "Requirement already satisfied: pyparsing>=2.0.2 in c:\\programdata\\anaconda3\\lib\\site-packages (from packaging->webdriver-manager) (2.4.7)\n",
      "Requirement already satisfied: charset-normalizer<4,>=2 in c:\\programdata\\anaconda3\\lib\\site-packages (from requests->webdriver-manager) (3.1.0)\n",
      "Requirement already satisfied: urllib3<1.27,>=1.21.1 in c:\\programdata\\anaconda3\\lib\\site-packages (from requests->webdriver-manager) (1.26.4)\n",
      "Requirement already satisfied: idna<4,>=2.5 in c:\\programdata\\anaconda3\\lib\\site-packages (from requests->webdriver-manager) (2.10)\n",
      "Requirement already satisfied: certifi>=2017.4.17 in c:\\users\\user\\appdata\\roaming\\python\\python38\\site-packages (from requests->webdriver-manager) (2022.12.7)\n",
      "Installing collected packages: webdriver-manager\n",
      "Successfully installed webdriver-manager-3.8.6\n"
     ]
    }
   ],
   "source": [
    "#!pip install selenium\n",
    "#!pip install webdriver-manager"
   ]
  },
  {
   "cell_type": "code",
   "execution_count": 10,
   "id": "55983679",
   "metadata": {},
   "outputs": [],
   "source": [
    "from selenium import webdriver\n",
    "from selenium.webdriver.chrome.service import Service\n",
    "from webdriver_manager.chrome import ChromeDriverManager\n",
    "import time\n",
    "import pandas as pd"
   ]
  },
  {
   "cell_type": "markdown",
   "id": "14403afa",
   "metadata": {},
   "source": [
    "## Passo 2 - Abrindo o navegador"
   ]
  },
  {
   "cell_type": "code",
   "execution_count": 13,
   "id": "1756f57a",
   "metadata": {},
   "outputs": [],
   "source": [
    "driver = webdriver.Chrome(service = Service(ChromeDriverManager().install()))\n",
    "driver.get('https://www.etf.com/etfanalytics/etf-finder')"
   ]
  },
  {
   "cell_type": "markdown",
   "id": "500f6c59",
   "metadata": {},
   "source": [
    "## Passo 3 - Selecionando botão para aumentar visualização da tabela"
   ]
  },
  {
   "cell_type": "code",
   "execution_count": 16,
   "id": "6c43370b",
   "metadata": {},
   "outputs": [],
   "source": [
    "time.sleep(4)\n",
    "\n",
    "botao_100= driver.find_element('xpath', '/html/body/div[2]/div/div/main/div[1]/section/div[2]/div[3]/div/article/div/div[2]/div/div/div/div/div/div[3]/div[2]/div/div[1]/div/div[2]/div[1]/div/div[5]/button/span')\n",
    "\n",
    "botao_100.click()\n",
    "\n",
    "#Outra forma para clicar em um objeto do HTML\n",
    "# driver.execute_script('arguments[0].click();', botao_100) "
   ]
  },
  {
   "cell_type": "markdown",
   "id": "118a5210",
   "metadata": {},
   "source": [
    "## Passo 4 - Encontrando o número total de páginas da tabela"
   ]
  },
  {
   "cell_type": "code",
   "execution_count": 33,
   "id": "20e42415",
   "metadata": {},
   "outputs": [
    {
     "data": {
      "text/plain": [
       "32"
      ]
     },
     "execution_count": 33,
     "metadata": {},
     "output_type": "execute_result"
    }
   ],
   "source": [
    "numero_paginas = driver.find_element('xpath', '/html/body/div[2]/div/div/main/div[1]/section/div[2]/div[3]/div/article/div/div[2]/div/div/div/div/div/div[3]/div[2]/div/div[1]/div/div[2]/div[2]/ul/li[8]/a')\n",
    "numero_paginas = int(numero_paginas.text)\n",
    "numero_paginas"
   ]
  },
  {
   "cell_type": "markdown",
   "id": "25c011a9",
   "metadata": {},
   "source": [
    "## Passo 5 - Lendo tabela de dados"
   ]
  },
  {
   "cell_type": "code",
   "execution_count": 39,
   "id": "259515ee",
   "metadata": {},
   "outputs": [],
   "source": [
    "lista_tabelas = []\n",
    "elemento = driver.find_element('xpath', '//*[@id=\"screener-main\"]/div[2]/div')\n",
    "botao_avancar_pagina = driver.find_element('xpath', '//*[@id=\"panel:r0:0\"]/div/div[2]/div[2]/ul/li[9]/a[1]')"
   ]
  },
  {
   "cell_type": "code",
   "execution_count": 42,
   "id": "ecf4a683",
   "metadata": {},
   "outputs": [
    {
     "ename": "AttributeError",
     "evalue": "'NoneType' object has no attribute 'apend'",
     "output_type": "error",
     "traceback": [
      "\u001b[1;31m---------------------------------------------------------------------------\u001b[0m",
      "\u001b[1;31mAttributeError\u001b[0m                            Traceback (most recent call last)",
      "\u001b[1;32m<ipython-input-42-cd6556a00c8f>\u001b[0m in \u001b[0;36m<module>\u001b[1;34m\u001b[0m\n\u001b[0;32m      5\u001b[0m     \u001b[1;31m#Utilizando tabela exportada com pandas e salvando em uma lista com todas as outras tabelas\u001b[0m\u001b[1;33m\u001b[0m\u001b[1;33m\u001b[0m\u001b[1;33m\u001b[0m\u001b[0m\n\u001b[0;32m      6\u001b[0m     \u001b[0mtabela\u001b[0m \u001b[1;33m=\u001b[0m \u001b[0mpd\u001b[0m\u001b[1;33m.\u001b[0m\u001b[0mread_html\u001b[0m\u001b[1;33m(\u001b[0m\u001b[0mstr\u001b[0m\u001b[1;33m(\u001b[0m\u001b[0mhtml_tabela\u001b[0m\u001b[1;33m)\u001b[0m\u001b[1;33m)\u001b[0m\u001b[1;33m[\u001b[0m\u001b[1;36m0\u001b[0m\u001b[1;33m]\u001b[0m\u001b[1;33m\u001b[0m\u001b[1;33m\u001b[0m\u001b[0m\n\u001b[1;32m----> 7\u001b[1;33m     \u001b[0mlista_tabelas\u001b[0m\u001b[1;33m.\u001b[0m\u001b[0mapend\u001b[0m\u001b[1;33m(\u001b[0m\u001b[0mtabela\u001b[0m\u001b[1;33m)\u001b[0m\u001b[1;33m\u001b[0m\u001b[1;33m\u001b[0m\u001b[0m\n\u001b[0m\u001b[0;32m      8\u001b[0m \u001b[1;33m\u001b[0m\u001b[0m\n\u001b[0;32m      9\u001b[0m     \u001b[0mbotao_avancar_pagina\u001b[0m\u001b[1;33m.\u001b[0m\u001b[0mclick\u001b[0m\u001b[1;33m(\u001b[0m\u001b[1;33m)\u001b[0m\u001b[1;33m\u001b[0m\u001b[1;33m\u001b[0m\u001b[0m\n",
      "\u001b[1;31mAttributeError\u001b[0m: 'NoneType' object has no attribute 'apend'"
     ]
    }
   ],
   "source": [
    "for pagina in range(numero_paginas):\n",
    "    #Exportando a tabela em HTML\n",
    "    html_tabela = elemento.get_attribute('outerHTML')\n",
    "    \n",
    "    #Utilizando tabela exportada com pandas e salvando em uma lista com todas as outras tabelas\n",
    "    tabela = pd.read_html(str(html_tabela))[0]\n",
    "    lista_tabelas.apend(tabela)\n",
    "    \n",
    "    botao_avancar_pagina.click()\n",
    "    \n",
    "lista_tabelas"
   ]
  },
  {
   "cell_type": "code",
   "execution_count": null,
   "id": "159626b9",
   "metadata": {},
   "outputs": [],
   "source": []
  }
 ],
 "metadata": {
  "kernelspec": {
   "display_name": "Python 3",
   "language": "python",
   "name": "python3"
  },
  "language_info": {
   "codemirror_mode": {
    "name": "ipython",
    "version": 3
   },
   "file_extension": ".py",
   "mimetype": "text/x-python",
   "name": "python",
   "nbconvert_exporter": "python",
   "pygments_lexer": "ipython3",
   "version": "3.8.8"
  }
 },
 "nbformat": 4,
 "nbformat_minor": 5
}
